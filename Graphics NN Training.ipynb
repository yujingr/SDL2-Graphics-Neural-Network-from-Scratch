{
  "cells": [
    {
      "cell_type": "markdown",
      "metadata": {
        "id": "rgDZ_0AkWlSQ"
      },
      "source": [
        "### Written by Jing Yu "
      ]
    },
    {
      "cell_type": "markdown",
      "metadata": {
        "id": "_L-HfQiTUgBK"
      },
      "source": [
        "## Converts png to PPM"
      ]
    },
    {
      "cell_type": "code",
      "execution_count": null,
      "metadata": {
        "cellView": "form",
        "id": "aV1FmyTR1nuS"
      },
      "outputs": [],
      "source": [
        "#@title Converts png to PPM\n",
        "from PIL import Image\n",
        "def convert_ppm3(filename, tofilename):\n",
        "\n",
        "    im = Image.open(filename) # Can be many different formats.\n",
        "    pix = im.load()\n",
        "    print(im.size)  # Get the width and hight of the image for iterating over\n",
        "    f = open(tofilename, \"w\")\n",
        "    f.write(\"P3\\n{} {}\\n255\\n\".format(im.size[0],im.size[1]))\n",
        "    for x in range(im.size[0]):\n",
        "        for y in range(im.size[1]):\n",
        "            rgba = pix[im.size[0]-y-1,x];\n",
        "            f.write(\"{}\\n{}\\n{}\\n\".format(rgba[0],rgba[1],rgba[2]))\n",
        "    f.close()\n",
        "\n",
        "for i in range(10):\n",
        "    filename = \"{}.png\".format(i)\n",
        "    tofilename= \"{}.ppm\".format(i)\n",
        "    convert_ppm3(filename, tofilename)\n"
      ]
    },
    {
      "cell_type": "code",
      "execution_count": null,
      "metadata": {
        "id": "mY9tM8Qc17cb"
      },
      "outputs": [],
      "source": [
        "im = Image.open(filename) # Can be many different formats.\n",
        "pix = im.load()\n",
        "print(im.size)  # Get the width and hight of the image for iterating over\n",
        "f = open(tofilename, \"w\")\n",
        "f.write(\"P3\\n{}\\n{}\\n255\\n\".format(im.size[0],im.size[1]))\n",
        "for x in range(im.size[0]):\n",
        "    for y in range(im.size[1]):\n",
        "        rgba = pix[y,x];\n",
        "        f.write(\"{}\\n{}\\n{}\\n\".format(rgba[0],rgba[1],rgba[2]))\n",
        "f.close()"
      ]
    },
    {
      "cell_type": "markdown",
      "metadata": {
        "id": "oMPp2u87UkJd"
      },
      "source": [
        "## Neural Network Model"
      ]
    },
    {
      "cell_type": "code",
      "execution_count": null,
      "metadata": {
        "id": "n6pGSfZzUoWX"
      },
      "outputs": [],
      "source": [
        "#@title 1. Setup\n",
        "import numpy as np\n",
        "import tensorflow as tf\n",
        "from tensorflow import keras\n",
        "from tensorflow.keras import layers\n",
        "import cv2 as cv\n",
        "\n",
        "# Seed\n",
        "SEED = 111\n",
        "np.random.seed(seed=SEED)\n",
        "tf.random.set_seed(SEED)"
      ]
    },
    {
      "cell_type": "code",
      "execution_count": null,
      "metadata": {
        "colab": {
          "base_uri": "https://localhost:8080/"
        },
        "id": "xlQ3-EyJU_Pi",
        "outputId": "cb7ce355-ad10-4d39-a162-aa034d722bbe"
      },
      "outputs": [
        {
          "name": "stdout",
          "output_type": "stream",
          "text": [
            "Downloading data from https://storage.googleapis.com/tensorflow/tf-keras-datasets/mnist.npz\n",
            "11493376/11490434 [==============================] - 0s 0us/step\n"
          ]
        }
      ],
      "source": [
        "#@title 2. Dense Model Binary data\n",
        "x_train_resize = []\n",
        "x_test_resize = []\n",
        "\n",
        "num_classes = 10\n",
        "input_shape = (10*10)\n",
        "\n",
        "(x_train, y_train), (x_test, y_test) = keras.datasets.mnist.load_data()\n",
        "y_train = keras.utils.to_categorical(y_train, num_classes)\n",
        "y_test = keras.utils.to_categorical(y_test, num_classes)\n",
        "\n",
        "for i,image in enumerate(x_train):\n",
        "    image = cv.resize(image, (10,10))\n",
        "    image = image > 0\n",
        "    image = image.astype(dtype=\"int\")\n",
        "    x_train_resize.append(image)\n",
        "for i, image in enumerate(x_test):\n",
        "    image = cv.resize(image, (10,10))\n",
        "    image = image > 0\n",
        "    image = image.astype(dtype=\"int\")\n",
        "    x_test_resize.append(image)\n",
        "\n",
        "x_train_resize = np.asarray(x_train_resize)\n",
        "x_train_resize = x_train_resize.reshape(60000,10*10)\n",
        "x_test_resize= np.asarray(x_test_resize)\n",
        "x_test_resize = x_test_resize.reshape(10000,10*10)\n",
        "\n"
      ]
    },
    {
      "cell_type": "code",
      "execution_count": null,
      "metadata": {
        "id": "OpeZCoNfVFuE"
      },
      "outputs": [],
      "source": [
        "#@title 3. Dense Model Init\n",
        "nnn = 10 #30\n",
        "model = keras.Sequential(\n",
        "    [\n",
        "        keras.Input(shape=input_shape),\n",
        "        layers.Dense(nnn,activation=\"relu\"),\n",
        "        layers.Dense(nnn,activation=\"relu\"),\n",
        "        layers.Dense(nnn,activation=\"relu\"),\n",
        "        layers.Dense(num_classes, activation=\"softmax\"),\n",
        "    ]\n",
        ")\n",
        "\n",
        "model.summary()\n"
      ]
    },
    {
      "cell_type": "code",
      "execution_count": null,
      "metadata": {
        "id": "NMp_imNyVHyP"
      },
      "outputs": [],
      "source": [
        "#@title 4. dense model compile\n",
        "batch_size = 128\n",
        "epochs = 30\n",
        "op = keras.optimizers.SGD(learning_rate = 0.1, momentum = 0.9)\n",
        "op = keras.optimizers.Adam(learning_rate = 0.05)\n",
        "model.compile(loss=\"categorical_crossentropy\", optimizer=\"adam\", metrics=[\"accuracy\"])\n",
        "#model.compile(loss=\"categorical_crossentropy\", optimizer=op, metrics=[\"accuracy\"])\n",
        "\n",
        "model.fit(x_train_resize, y_train, batch_size=batch_size, epochs=epochs, validation_split=0.1)\n"
      ]
    },
    {
      "cell_type": "code",
      "execution_count": null,
      "metadata": {
        "colab": {
          "base_uri": "https://localhost:8080/"
        },
        "id": "GtzUH3QjVg5G",
        "outputId": "6d47a712-532b-456b-d1c1-fa04c3f3cdbf"
      },
      "outputs": [
        {
          "data": {
            "text/plain": [
              "array([[9.9004656e-01, 1.3267862e-11, 2.6479608e-04, 7.5979609e-05,\n",
              "        5.2724783e-05, 8.6805290e-03, 4.2114848e-06, 1.2275509e-05,\n",
              "        1.2307552e-04, 7.3991937e-04]], dtype=float32)"
            ]
          },
          "execution_count": 34,
          "metadata": {
            "tags": []
          },
          "output_type": "execute_result"
        }
      ],
      "source": [
        "model.predict(np.array([x_train_resize[1000],]))"
      ]
    },
    {
      "cell_type": "code",
      "execution_count": null,
      "metadata": {
        "id": "B337qbyRVMU4"
      },
      "outputs": [],
      "source": [
        "#@ title 5. Output the weights\n",
        "#https://numpy.org/doc/stable/reference/generated/numpy.savetxt.html\n",
        "np.savetxt('test0w.txt', model.layers[0].get_weights()[0], delimiter=',',newline=',\\n')\n",
        "np.savetxt('test0b.txt', model.layers[0].get_weights()[1], delimiter=',',newline=',\\n')\n",
        "np.savetxt('test1w.txt', model.layers[1].get_weights()[0], delimiter=',',newline=',\\n')\n",
        "np.savetxt('test1b.txt', model.layers[1].get_weights()[1], delimiter=',',newline=',\\n')\n",
        "np.savetxt('test2w.txt', model.layers[2].get_weights()[0], delimiter=',',newline=',\\n')\n",
        "np.savetxt('test2b.txt', model.layers[2].get_weights()[1], delimiter=',',newline=',\\n')\n",
        "np.savetxt('test3w.txt', model.layers[3].get_weights()[0], delimiter=',',newline=',\\n')\n",
        "np.savetxt('test3b.txt', model.layers[3].get_weights()[1], delimiter=',',newline=',\\n')"
      ]
    }
  ],
  "metadata": {
    "colab": {
      "provenance": []
    },
    "kernelspec": {
      "display_name": "Python 3",
      "name": "python3"
    }
  },
  "nbformat": 4,
  "nbformat_minor": 0
}
