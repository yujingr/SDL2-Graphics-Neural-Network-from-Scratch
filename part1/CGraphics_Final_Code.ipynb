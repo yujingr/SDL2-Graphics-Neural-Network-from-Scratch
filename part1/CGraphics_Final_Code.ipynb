{
  "nbformat": 4,
  "nbformat_minor": 0,
  "metadata": {
    "colab": {
      "name": "CGraphics Final Code.ipynb",
      "provenance": [],
      "collapsed_sections": []
    },
    "kernelspec": {
      "name": "python3",
      "display_name": "Python 3"
    }
  },
  "cells": [
    {
      "cell_type": "markdown",
      "metadata": {
        "id": "_L-HfQiTUgBK"
      },
      "source": [
        "## Converts png to PPM"
      ]
    },
    {
      "cell_type": "code",
      "metadata": {
        "colab": {
          "base_uri": "https://localhost:8080/"
        },
        "cellView": "form",
        "id": "aV1FmyTR1nuS",
        "outputId": "61a5db24-bee0-4477-a5ed-1ae08424fb19"
      },
      "source": [
        "#@title Converts png to PPM\n",
        "from PIL import Image\n",
        "def convert_ppm3(filename, tofilename):\n",
        "\n",
        "    im = Image.open(filename) # Can be many different formats.\n",
        "    pix = im.load()\n",
        "    print(im.size)  # Get the width and hight of the image for iterating over\n",
        "    f = open(tofilename, \"w\")\n",
        "    f.write(\"P3\\n{} {}\\n255\\n\".format(im.size[0],im.size[1]))\n",
        "    for x in range(im.size[0]):\n",
        "        for y in range(im.size[1]):\n",
        "            rgba = pix[im.size[0]-y-1,x];\n",
        "            f.write(\"{}\\n{}\\n{}\\n\".format(rgba[0],rgba[1],rgba[2]))\n",
        "    f.close()\n",
        "\n",
        "for i in range(10):\n",
        "    filename = \"{}.png\".format(i)\n",
        "    tofilename= \"{}.ppm\".format(i)\n",
        "    convert_ppm3(filename, tofilename)\n"
      ],
      "execution_count": 29,
      "outputs": [
        {
          "output_type": "stream",
          "text": [
            "(600, 600)\n",
            "(600, 600)\n",
            "(600, 600)\n",
            "(600, 600)\n",
            "(600, 600)\n",
            "(600, 600)\n",
            "(600, 600)\n",
            "(600, 600)\n",
            "(600, 600)\n",
            "(600, 600)\n"
          ],
          "name": "stdout"
        }
      ]
    },
    {
      "cell_type": "code",
      "metadata": {
        "id": "mY9tM8Qc17cb"
      },
      "source": [
        "im = Image.open(filename) # Can be many different formats.\n",
        "pix = im.load()\n",
        "print(im.size)  # Get the width and hight of the image for iterating over\n",
        "f = open(tofilename, \"w\")\n",
        "f.write(\"P3\\n{}\\n{}\\n255\\n\".format(im.size[0],im.size[1]))\n",
        "for x in range(im.size[0]):\n",
        "    for y in range(im.size[1]):\n",
        "        rgba = pix[y,x];\n",
        "        f.write(\"{}\\n{}\\n{}\\n\".format(rgba[0],rgba[1],rgba[2]))\n",
        "f.close()"
      ],
      "execution_count": 11,
      "outputs": []
    },
    {
      "cell_type": "markdown",
      "metadata": {
        "id": "oMPp2u87UkJd"
      },
      "source": [
        "## Neural Network Model"
      ]
    },
    {
      "cell_type": "code",
      "metadata": {
        "id": "n6pGSfZzUoWX"
      },
      "source": [
        "#@title 1. Setup\n",
        "import numpy as np\n",
        "import tensorflow as tf\n",
        "from tensorflow import keras\n",
        "from tensorflow.keras import layers\n",
        "import cv2 as cv\n",
        "\n",
        "# Seed\n",
        "SEED = 111\n",
        "np.random.seed(seed=SEED)\n",
        "tf.random.set_seed(SEED)"
      ],
      "execution_count": 30,
      "outputs": []
    },
    {
      "cell_type": "code",
      "metadata": {
        "colab": {
          "base_uri": "https://localhost:8080/"
        },
        "id": "xlQ3-EyJU_Pi",
        "outputId": "cb7ce355-ad10-4d39-a162-aa034d722bbe"
      },
      "source": [
        "#@title 2. Dense Model Binary data\n",
        "x_train_resize = []\n",
        "x_test_resize = []\n",
        "\n",
        "num_classes = 10\n",
        "input_shape = (10*10)\n",
        "\n",
        "(x_train, y_train), (x_test, y_test) = keras.datasets.mnist.load_data()\n",
        "y_train = keras.utils.to_categorical(y_train, num_classes)\n",
        "y_test = keras.utils.to_categorical(y_test, num_classes)\n",
        "\n",
        "for i,image in enumerate(x_train):\n",
        "    image = cv.resize(image, (10,10))\n",
        "    image = image > 0\n",
        "    image = image.astype(dtype=\"int\")\n",
        "    x_train_resize.append(image)\n",
        "for i, image in enumerate(x_test):\n",
        "    image = cv.resize(image, (10,10))\n",
        "    image = image > 0\n",
        "    image = image.astype(dtype=\"int\")\n",
        "    x_test_resize.append(image)\n",
        "\n",
        "x_train_resize = np.asarray(x_train_resize)\n",
        "x_train_resize = x_train_resize.reshape(60000,10*10)\n",
        "x_test_resize= np.asarray(x_test_resize)\n",
        "x_test_resize = x_test_resize.reshape(10000,10*10)\n",
        "\n"
      ],
      "execution_count": 31,
      "outputs": [
        {
          "output_type": "stream",
          "text": [
            "Downloading data from https://storage.googleapis.com/tensorflow/tf-keras-datasets/mnist.npz\n",
            "11493376/11490434 [==============================] - 0s 0us/step\n"
          ],
          "name": "stdout"
        }
      ]
    },
    {
      "cell_type": "code",
      "metadata": {
        "colab": {
          "base_uri": "https://localhost:8080/"
        },
        "id": "OpeZCoNfVFuE",
        "outputId": "bc99b14d-a3fb-4ff2-dd06-b85db62022aa"
      },
      "source": [
        "#@title 3. Dense Model Init\n",
        "nnn = 10 #30\n",
        "model = keras.Sequential(\n",
        "    [\n",
        "        keras.Input(shape=input_shape),\n",
        "        layers.Dense(nnn,activation=\"relu\"),\n",
        "        layers.Dense(nnn,activation=\"relu\"),\n",
        "        layers.Dense(nnn,activation=\"relu\"),\n",
        "        layers.Dense(num_classes, activation=\"softmax\"),\n",
        "    ]\n",
        ")\n",
        "\n",
        "model.summary()\n"
      ],
      "execution_count": 32,
      "outputs": [
        {
          "output_type": "stream",
          "text": [
            "Model: \"sequential\"\n",
            "_________________________________________________________________\n",
            "Layer (type)                 Output Shape              Param #   \n",
            "=================================================================\n",
            "dense (Dense)                (None, 10)                1010      \n",
            "_________________________________________________________________\n",
            "dense_1 (Dense)              (None, 10)                110       \n",
            "_________________________________________________________________\n",
            "dense_2 (Dense)              (None, 10)                110       \n",
            "_________________________________________________________________\n",
            "dense_3 (Dense)              (None, 10)                110       \n",
            "=================================================================\n",
            "Total params: 1,340\n",
            "Trainable params: 1,340\n",
            "Non-trainable params: 0\n",
            "_________________________________________________________________\n"
          ],
          "name": "stdout"
        }
      ]
    },
    {
      "cell_type": "code",
      "metadata": {
        "colab": {
          "base_uri": "https://localhost:8080/"
        },
        "id": "NMp_imNyVHyP",
        "outputId": "d64771e9-94ec-45ff-ad84-9213a57e3e61"
      },
      "source": [
        "#@title 4. dense model compile\n",
        "batch_size = 128\n",
        "epochs = 30\n",
        "op = keras.optimizers.SGD(learning_rate = 0.1, momentum = 0.9)\n",
        "op = keras.optimizers.Adam(learning_rate = 0.05)\n",
        "model.compile(loss=\"categorical_crossentropy\", optimizer=\"adam\", metrics=[\"accuracy\"])\n",
        "#model.compile(loss=\"categorical_crossentropy\", optimizer=op, metrics=[\"accuracy\"])\n",
        "\n",
        "model.fit(x_train_resize, y_train, batch_size=batch_size, epochs=epochs, validation_split=0.1)\n"
      ],
      "execution_count": 33,
      "outputs": [
        {
          "output_type": "stream",
          "text": [
            "Epoch 1/30\n",
            "422/422 [==============================] - 1s 2ms/step - loss: 1.6054 - accuracy: 0.4317 - val_loss: 0.8819 - val_accuracy: 0.7188\n",
            "Epoch 2/30\n",
            "422/422 [==============================] - 1s 2ms/step - loss: 0.7423 - accuracy: 0.7657 - val_loss: 0.5655 - val_accuracy: 0.8238\n",
            "Epoch 3/30\n",
            "422/422 [==============================] - 1s 2ms/step - loss: 0.5946 - accuracy: 0.8113 - val_loss: 0.5077 - val_accuracy: 0.8422\n",
            "Epoch 4/30\n",
            "422/422 [==============================] - 1s 2ms/step - loss: 0.5418 - accuracy: 0.8277 - val_loss: 0.4606 - val_accuracy: 0.8568\n",
            "Epoch 5/30\n",
            "422/422 [==============================] - 1s 2ms/step - loss: 0.5080 - accuracy: 0.8384 - val_loss: 0.4356 - val_accuracy: 0.8677\n",
            "Epoch 6/30\n",
            "422/422 [==============================] - 1s 2ms/step - loss: 0.4866 - accuracy: 0.8465 - val_loss: 0.4234 - val_accuracy: 0.8705\n",
            "Epoch 7/30\n",
            "422/422 [==============================] - 1s 2ms/step - loss: 0.4702 - accuracy: 0.8527 - val_loss: 0.4056 - val_accuracy: 0.8767\n",
            "Epoch 8/30\n",
            "422/422 [==============================] - 1s 2ms/step - loss: 0.4570 - accuracy: 0.8580 - val_loss: 0.3918 - val_accuracy: 0.8787\n",
            "Epoch 9/30\n",
            "422/422 [==============================] - 1s 2ms/step - loss: 0.4464 - accuracy: 0.8607 - val_loss: 0.3843 - val_accuracy: 0.8840\n",
            "Epoch 10/30\n",
            "422/422 [==============================] - 1s 2ms/step - loss: 0.4388 - accuracy: 0.8638 - val_loss: 0.3827 - val_accuracy: 0.8838\n",
            "Epoch 11/30\n",
            "422/422 [==============================] - 1s 1ms/step - loss: 0.4310 - accuracy: 0.8650 - val_loss: 0.3675 - val_accuracy: 0.8878\n",
            "Epoch 12/30\n",
            "422/422 [==============================] - 1s 2ms/step - loss: 0.4252 - accuracy: 0.8672 - val_loss: 0.3644 - val_accuracy: 0.8897\n",
            "Epoch 13/30\n",
            "422/422 [==============================] - 1s 2ms/step - loss: 0.4194 - accuracy: 0.8692 - val_loss: 0.3638 - val_accuracy: 0.8885\n",
            "Epoch 14/30\n",
            "422/422 [==============================] - 1s 2ms/step - loss: 0.4142 - accuracy: 0.8700 - val_loss: 0.3568 - val_accuracy: 0.8918\n",
            "Epoch 15/30\n",
            "422/422 [==============================] - 1s 2ms/step - loss: 0.4103 - accuracy: 0.8717 - val_loss: 0.3590 - val_accuracy: 0.8872\n",
            "Epoch 16/30\n",
            "422/422 [==============================] - 1s 2ms/step - loss: 0.4077 - accuracy: 0.8721 - val_loss: 0.3505 - val_accuracy: 0.8923\n",
            "Epoch 17/30\n",
            "422/422 [==============================] - 1s 2ms/step - loss: 0.4019 - accuracy: 0.8736 - val_loss: 0.3509 - val_accuracy: 0.8912\n",
            "Epoch 18/30\n",
            "422/422 [==============================] - 1s 2ms/step - loss: 0.4002 - accuracy: 0.8749 - val_loss: 0.3516 - val_accuracy: 0.8920\n",
            "Epoch 19/30\n",
            "422/422 [==============================] - 1s 2ms/step - loss: 0.3977 - accuracy: 0.8744 - val_loss: 0.3431 - val_accuracy: 0.8945\n",
            "Epoch 20/30\n",
            "422/422 [==============================] - 1s 2ms/step - loss: 0.3947 - accuracy: 0.8761 - val_loss: 0.3443 - val_accuracy: 0.8945\n",
            "Epoch 21/30\n",
            "422/422 [==============================] - 1s 2ms/step - loss: 0.3914 - accuracy: 0.8771 - val_loss: 0.3426 - val_accuracy: 0.8953\n",
            "Epoch 22/30\n",
            "422/422 [==============================] - 1s 2ms/step - loss: 0.3885 - accuracy: 0.8778 - val_loss: 0.3469 - val_accuracy: 0.8940\n",
            "Epoch 23/30\n",
            "422/422 [==============================] - 1s 2ms/step - loss: 0.3865 - accuracy: 0.8779 - val_loss: 0.3354 - val_accuracy: 0.8950\n",
            "Epoch 24/30\n",
            "422/422 [==============================] - 1s 2ms/step - loss: 0.3831 - accuracy: 0.8788 - val_loss: 0.3352 - val_accuracy: 0.8985\n",
            "Epoch 25/30\n",
            "422/422 [==============================] - 1s 1ms/step - loss: 0.3818 - accuracy: 0.8796 - val_loss: 0.3395 - val_accuracy: 0.8983\n",
            "Epoch 26/30\n",
            "422/422 [==============================] - 1s 2ms/step - loss: 0.3793 - accuracy: 0.8810 - val_loss: 0.3336 - val_accuracy: 0.8967\n",
            "Epoch 27/30\n",
            "422/422 [==============================] - 1s 2ms/step - loss: 0.3778 - accuracy: 0.8813 - val_loss: 0.3356 - val_accuracy: 0.8975\n",
            "Epoch 28/30\n",
            "422/422 [==============================] - 1s 2ms/step - loss: 0.3752 - accuracy: 0.8813 - val_loss: 0.3356 - val_accuracy: 0.8968\n",
            "Epoch 29/30\n",
            "422/422 [==============================] - 1s 2ms/step - loss: 0.3727 - accuracy: 0.8825 - val_loss: 0.3329 - val_accuracy: 0.8973\n",
            "Epoch 30/30\n",
            "422/422 [==============================] - 1s 2ms/step - loss: 0.3713 - accuracy: 0.8833 - val_loss: 0.3308 - val_accuracy: 0.8993\n"
          ],
          "name": "stdout"
        },
        {
          "output_type": "execute_result",
          "data": {
            "text/plain": [
              "<tensorflow.python.keras.callbacks.History at 0x7fa1b1740c88>"
            ]
          },
          "metadata": {
            "tags": []
          },
          "execution_count": 33
        }
      ]
    },
    {
      "cell_type": "code",
      "metadata": {
        "colab": {
          "base_uri": "https://localhost:8080/"
        },
        "id": "GtzUH3QjVg5G",
        "outputId": "6d47a712-532b-456b-d1c1-fa04c3f3cdbf"
      },
      "source": [
        "model.predict(np.array([x_train_resize[1000],]))"
      ],
      "execution_count": 34,
      "outputs": [
        {
          "output_type": "execute_result",
          "data": {
            "text/plain": [
              "array([[9.9004656e-01, 1.3267862e-11, 2.6479608e-04, 7.5979609e-05,\n",
              "        5.2724783e-05, 8.6805290e-03, 4.2114848e-06, 1.2275509e-05,\n",
              "        1.2307552e-04, 7.3991937e-04]], dtype=float32)"
            ]
          },
          "metadata": {
            "tags": []
          },
          "execution_count": 34
        }
      ]
    },
    {
      "cell_type": "code",
      "metadata": {
        "id": "B337qbyRVMU4"
      },
      "source": [
        "#@ title 5. Output the weights\n",
        "#https://numpy.org/doc/stable/reference/generated/numpy.savetxt.html\n",
        "np.savetxt('test0w.txt', model.layers[0].get_weights()[0], delimiter=',',newline=',\\n')\n",
        "np.savetxt('test0b.txt', model.layers[0].get_weights()[1], delimiter=',',newline=',\\n')\n",
        "np.savetxt('test1w.txt', model.layers[1].get_weights()[0], delimiter=',',newline=',\\n')\n",
        "np.savetxt('test1b.txt', model.layers[1].get_weights()[1], delimiter=',',newline=',\\n')\n",
        "np.savetxt('test2w.txt', model.layers[2].get_weights()[0], delimiter=',',newline=',\\n')\n",
        "np.savetxt('test2b.txt', model.layers[2].get_weights()[1], delimiter=',',newline=',\\n')\n",
        "np.savetxt('test3w.txt', model.layers[3].get_weights()[0], delimiter=',',newline=',\\n')\n",
        "np.savetxt('test3b.txt', model.layers[3].get_weights()[1], delimiter=',',newline=',\\n')"
      ],
      "execution_count": null,
      "outputs": []
    }
  ]
}